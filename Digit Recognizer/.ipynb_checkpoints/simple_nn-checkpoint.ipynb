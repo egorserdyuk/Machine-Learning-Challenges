{
 "cells": [
  {
   "cell_type": "code",
   "execution_count": 1,
   "metadata": {},
   "outputs": [],
   "source": [
    "import numpy as np\n",
    "import pandas as pd\n",
    "\n",
    "from matplotlib import pyplot as plt\n",
    "\n",
    "from sklearn.model_selection import train_test_split as tts\n",
    "from sklearn.preprocessing import StandardScaler\n",
    "from sklearn.metrics import precision_recall_curve, average_precision_score, roc_curve, roc_auc_score, f1_score"
   ]
  },
  {
   "cell_type": "code",
   "execution_count": 2,
   "metadata": {
    "pycharm": {
     "is_executing": true
    }
   },
   "outputs": [],
   "source": [
    "from tensorflow.keras.optimizers import Adam\n",
    "from sklearn.preprocessing import LabelBinarizer\n",
    "from sklearn.metrics import classification_report\n",
    "import tensorflow as tf\n",
    "import datetime\n",
    "import keras"
   ]
  },
  {
   "cell_type": "code",
   "execution_count": 3,
   "metadata": {},
   "outputs": [],
   "source": [
    "from tensorflow.keras.models import Sequential\n",
    "from tensorflow.keras.layers import Conv2D\n",
    "from tensorflow.keras.layers import MaxPooling2D\n",
    "from tensorflow.keras.layers import MaxPool2D\n",
    "from tensorflow.keras.layers import Activation\n",
    "from tensorflow.keras.layers import Flatten\n",
    "from tensorflow.keras.layers import Dense\n",
    "from tensorflow.keras.layers import Dropout\n",
    "from tensorflow.keras.utils import to_categorical"
   ]
  },
  {
   "cell_type": "code",
   "execution_count": 4,
   "metadata": {},
   "outputs": [],
   "source": [
    "gpus = tf.config.experimental.list_physical_devices('GPU')\n",
    "tf.config.experimental.set_virtual_device_configuration(gpus[0], [\n",
    "    tf.config.experimental.VirtualDeviceConfiguration(memory_limit=2000)])"
   ]
  },
  {
   "cell_type": "code",
   "execution_count": 5,
   "metadata": {},
   "outputs": [],
   "source": [
    "INIT_LR = 1e-3\n",
    "EPOCHS = 50\n",
    "BS = 128\n",
    "optimizer = Adam(lr=INIT_LR)\n",
    "num_classes = 10\n",
    "modelOutput = 'data/model_nn_1.h5'"
   ]
  },
  {
   "cell_type": "code",
   "execution_count": 6,
   "metadata": {},
   "outputs": [],
   "source": [
    "class Net:\n",
    "    @staticmethod\n",
    "    def build_model(width, height, depth, classes=num_classes):\n",
    "        model = Sequential()\n",
    "        inputShape = (height, width, depth)\n",
    "\n",
    "        model.add(Conv2D(32, (5, 5), padding='same', input_shape=inputShape))\n",
    "        model.add(Conv2D(32, (5, 5), padding='same', input_shape=inputShape))\n",
    "        model.add(Activation('relu'))\n",
    "        model.add(MaxPooling2D(pool_size=(2, 2)))\n",
    "        model.add(Dropout(0.2))\n",
    "\n",
    "        model.add(Conv2D(64, (5, 5), padding='same', input_shape=inputShape))\n",
    "        model.add(Conv2D(64, (5, 5), padding='same', input_shape=inputShape))\n",
    "        model.add(Activation('relu'))\n",
    "        model.add(MaxPooling2D(pool_size=(2, 2)))\n",
    "        model.add(Dropout(0.3))\n",
    "\n",
    "        model.add(Flatten())\n",
    "        model.add(Dense(512))\n",
    "        model.add(Activation('relu'))\n",
    "        model.add(Dropout(0.2))\n",
    "\n",
    "        model.add(Dense(classes))\n",
    "        model.add(Activation('softmax'))\n",
    "\n",
    "        return model"
   ]
  },
  {
   "cell_type": "code",
   "execution_count": 7,
   "metadata": {},
   "outputs": [],
   "source": [
    "train = pd.read_csv(\"data/train.csv\")\n",
    "test = pd.read_csv(\"data/test.csv\")"
   ]
  },
  {
   "cell_type": "code",
   "execution_count": 8,
   "metadata": {},
   "outputs": [],
   "source": [
    "X_ = train.drop('label',axis=1)\n",
    "y_ = train['label']\n",
    "\n",
    "X_ = X_.values.reshape(-1, 28, 28, 1)\n",
    "X_ = X_ / 255\n",
    "\n",
    "y_ = to_categorical(y_)"
   ]
  },
  {
   "cell_type": "code",
   "execution_count": 9,
   "metadata": {},
   "outputs": [],
   "source": [
    "X_train, X_test, y_train, y_test = tts(X_, y_, test_size=0.3, random_state=228)"
   ]
  },
  {
   "cell_type": "code",
   "execution_count": 10,
   "metadata": {},
   "outputs": [],
   "source": [
    "model = Net.build_model(28, 28, 1)\n",
    "model.compile(loss='categorical_crossentropy', optimizer=optimizer, metrics=['accuracy'])"
   ]
  },
  {
   "cell_type": "code",
   "execution_count": 11,
   "metadata": {},
   "outputs": [
    {
     "name": "stdout",
     "output_type": "stream",
     "text": [
      "Epoch 1/50\n",
      "230/230 [==============================] - 2s 7ms/step - loss: 0.5802 - accuracy: 0.8119 - val_loss: 0.1069 - val_accuracy: 0.9667\n",
      "Epoch 2/50\n",
      "230/230 [==============================] - 1s 5ms/step - loss: 0.1528 - accuracy: 0.9555 - val_loss: 0.0662 - val_accuracy: 0.9783\n",
      "Epoch 3/50\n",
      "230/230 [==============================] - 1s 5ms/step - loss: 0.1025 - accuracy: 0.9699 - val_loss: 0.0528 - val_accuracy: 0.9833\n",
      "Epoch 4/50\n",
      "230/230 [==============================] - 1s 5ms/step - loss: 0.0823 - accuracy: 0.9762 - val_loss: 0.0448 - val_accuracy: 0.9867\n",
      "Epoch 5/50\n",
      "230/230 [==============================] - 1s 5ms/step - loss: 0.0660 - accuracy: 0.9812 - val_loss: 0.0447 - val_accuracy: 0.9863\n",
      "Epoch 6/50\n",
      "230/230 [==============================] - 1s 5ms/step - loss: 0.0554 - accuracy: 0.9833 - val_loss: 0.0381 - val_accuracy: 0.9884\n",
      "Epoch 7/50\n",
      "230/230 [==============================] - 1s 5ms/step - loss: 0.0507 - accuracy: 0.9853 - val_loss: 0.0381 - val_accuracy: 0.9881\n",
      "Epoch 8/50\n",
      "230/230 [==============================] - 1s 5ms/step - loss: 0.0412 - accuracy: 0.9876 - val_loss: 0.0347 - val_accuracy: 0.9898\n",
      "Epoch 9/50\n",
      "230/230 [==============================] - 1s 5ms/step - loss: 0.0400 - accuracy: 0.9880 - val_loss: 0.0396 - val_accuracy: 0.9890\n",
      "Epoch 10/50\n",
      "230/230 [==============================] - 1s 5ms/step - loss: 0.0309 - accuracy: 0.9903 - val_loss: 0.0397 - val_accuracy: 0.9898\n",
      "Epoch 11/50\n",
      "230/230 [==============================] - 1s 5ms/step - loss: 0.0310 - accuracy: 0.9903 - val_loss: 0.0398 - val_accuracy: 0.9894\n",
      "Epoch 12/50\n",
      "230/230 [==============================] - 1s 5ms/step - loss: 0.0295 - accuracy: 0.9913 - val_loss: 0.0366 - val_accuracy: 0.9906\n",
      "Epoch 13/50\n",
      "230/230 [==============================] - 1s 5ms/step - loss: 0.0264 - accuracy: 0.9922 - val_loss: 0.0473 - val_accuracy: 0.9885\n",
      "Epoch 14/50\n",
      "230/230 [==============================] - 1s 5ms/step - loss: 0.0242 - accuracy: 0.9926 - val_loss: 0.0436 - val_accuracy: 0.9879\n",
      "Epoch 15/50\n",
      "230/230 [==============================] - 1s 5ms/step - loss: 0.0220 - accuracy: 0.9930 - val_loss: 0.0383 - val_accuracy: 0.9894\n",
      "Epoch 16/50\n",
      "230/230 [==============================] - 1s 5ms/step - loss: 0.0189 - accuracy: 0.9945 - val_loss: 0.0350 - val_accuracy: 0.9912\n",
      "Epoch 17/50\n",
      "230/230 [==============================] - 1s 5ms/step - loss: 0.0191 - accuracy: 0.9940 - val_loss: 0.0402 - val_accuracy: 0.9905\n",
      "Epoch 18/50\n",
      "230/230 [==============================] - 1s 5ms/step - loss: 0.0174 - accuracy: 0.9946 - val_loss: 0.0421 - val_accuracy: 0.9906\n",
      "Epoch 19/50\n",
      "230/230 [==============================] - 1s 5ms/step - loss: 0.0157 - accuracy: 0.9951 - val_loss: 0.0407 - val_accuracy: 0.9920\n",
      "Epoch 20/50\n",
      "230/230 [==============================] - 1s 5ms/step - loss: 0.0159 - accuracy: 0.9953 - val_loss: 0.0436 - val_accuracy: 0.9902\n",
      "Epoch 21/50\n",
      "230/230 [==============================] - 1s 5ms/step - loss: 0.0116 - accuracy: 0.9965 - val_loss: 0.0443 - val_accuracy: 0.9906\n",
      "Epoch 22/50\n",
      "230/230 [==============================] - 1s 5ms/step - loss: 0.0134 - accuracy: 0.9956 - val_loss: 0.0403 - val_accuracy: 0.9918\n",
      "Epoch 23/50\n",
      "230/230 [==============================] - 1s 5ms/step - loss: 0.0151 - accuracy: 0.9946 - val_loss: 0.0389 - val_accuracy: 0.9915\n",
      "Epoch 24/50\n",
      "230/230 [==============================] - 1s 5ms/step - loss: 0.0114 - accuracy: 0.9964 - val_loss: 0.0417 - val_accuracy: 0.9913\n",
      "Epoch 25/50\n",
      "230/230 [==============================] - 1s 5ms/step - loss: 0.0144 - accuracy: 0.9955 - val_loss: 0.0407 - val_accuracy: 0.9920\n",
      "Epoch 26/50\n",
      "230/230 [==============================] - 1s 5ms/step - loss: 0.0112 - accuracy: 0.9964 - val_loss: 0.0435 - val_accuracy: 0.9921\n",
      "Epoch 27/50\n",
      "230/230 [==============================] - 1s 5ms/step - loss: 0.0105 - accuracy: 0.9970 - val_loss: 0.0482 - val_accuracy: 0.9910\n",
      "Epoch 28/50\n",
      "230/230 [==============================] - 1s 5ms/step - loss: 0.0122 - accuracy: 0.9963 - val_loss: 0.0440 - val_accuracy: 0.9912\n",
      "Epoch 29/50\n",
      "230/230 [==============================] - 1s 5ms/step - loss: 0.0099 - accuracy: 0.9968 - val_loss: 0.0403 - val_accuracy: 0.9923\n",
      "Epoch 30/50\n",
      "230/230 [==============================] - 1s 5ms/step - loss: 0.0094 - accuracy: 0.9968 - val_loss: 0.0538 - val_accuracy: 0.9898\n",
      "Epoch 31/50\n",
      "230/230 [==============================] - 1s 5ms/step - loss: 0.0093 - accuracy: 0.9971 - val_loss: 0.0486 - val_accuracy: 0.9911\n",
      "Epoch 32/50\n",
      "230/230 [==============================] - 1s 5ms/step - loss: 0.0079 - accuracy: 0.9971 - val_loss: 0.0575 - val_accuracy: 0.9896\n",
      "Epoch 33/50\n",
      "230/230 [==============================] - 1s 5ms/step - loss: 0.0086 - accuracy: 0.9972 - val_loss: 0.0471 - val_accuracy: 0.9918\n",
      "Epoch 34/50\n",
      "230/230 [==============================] - 1s 5ms/step - loss: 0.0119 - accuracy: 0.9966 - val_loss: 0.0435 - val_accuracy: 0.9913\n",
      "Epoch 35/50\n",
      "230/230 [==============================] - 1s 5ms/step - loss: 0.0098 - accuracy: 0.9971 - val_loss: 0.0430 - val_accuracy: 0.9908\n",
      "Epoch 36/50\n",
      "230/230 [==============================] - 1s 5ms/step - loss: 0.0072 - accuracy: 0.9977 - val_loss: 0.0461 - val_accuracy: 0.9915\n",
      "Epoch 37/50\n",
      "230/230 [==============================] - 1s 5ms/step - loss: 0.0072 - accuracy: 0.9980 - val_loss: 0.0424 - val_accuracy: 0.9927\n",
      "Epoch 38/50\n",
      "230/230 [==============================] - 1s 5ms/step - loss: 0.0082 - accuracy: 0.9973 - val_loss: 0.0465 - val_accuracy: 0.9911\n",
      "Epoch 39/50\n",
      "230/230 [==============================] - 1s 5ms/step - loss: 0.0073 - accuracy: 0.9977 - val_loss: 0.0487 - val_accuracy: 0.9916\n",
      "Epoch 40/50\n",
      "230/230 [==============================] - 1s 5ms/step - loss: 0.0083 - accuracy: 0.9973 - val_loss: 0.0530 - val_accuracy: 0.9903\n",
      "Epoch 41/50\n",
      "230/230 [==============================] - 1s 5ms/step - loss: 0.0070 - accuracy: 0.9980 - val_loss: 0.0457 - val_accuracy: 0.9915\n",
      "Epoch 42/50\n",
      "230/230 [==============================] - 1s 5ms/step - loss: 0.0069 - accuracy: 0.9977 - val_loss: 0.0539 - val_accuracy: 0.9906\n",
      "Epoch 43/50\n",
      "230/230 [==============================] - 1s 5ms/step - loss: 0.0054 - accuracy: 0.9983 - val_loss: 0.0462 - val_accuracy: 0.9926\n",
      "Epoch 44/50\n",
      "230/230 [==============================] - 1s 5ms/step - loss: 0.0064 - accuracy: 0.9980 - val_loss: 0.0490 - val_accuracy: 0.9906\n",
      "Epoch 45/50\n",
      "230/230 [==============================] - 1s 5ms/step - loss: 0.0097 - accuracy: 0.9974 - val_loss: 0.0516 - val_accuracy: 0.9905\n",
      "Epoch 46/50\n",
      "230/230 [==============================] - 1s 5ms/step - loss: 0.0085 - accuracy: 0.9970 - val_loss: 0.0435 - val_accuracy: 0.9924\n",
      "Epoch 47/50\n",
      "230/230 [==============================] - 1s 5ms/step - loss: 0.0055 - accuracy: 0.9981 - val_loss: 0.0500 - val_accuracy: 0.9914\n",
      "Epoch 48/50\n",
      "230/230 [==============================] - 1s 5ms/step - loss: 0.0069 - accuracy: 0.9976 - val_loss: 0.0454 - val_accuracy: 0.9920\n",
      "Epoch 49/50\n",
      "230/230 [==============================] - 1s 5ms/step - loss: 0.0054 - accuracy: 0.9982 - val_loss: 0.0465 - val_accuracy: 0.9925\n",
      "Epoch 50/50\n",
      "230/230 [==============================] - 1s 5ms/step - loss: 0.0059 - accuracy: 0.9979 - val_loss: 0.0500 - val_accuracy: 0.9913\n"
     ]
    }
   ],
   "source": [
    "net = model.fit(X_train, y_train, validation_data=(X_test, y_test), batch_size=BS, epochs=EPOCHS, verbose=1)"
   ]
  },
  {
   "cell_type": "code",
   "execution_count": 12,
   "metadata": {},
   "outputs": [
    {
     "name": "stdout",
     "output_type": "stream",
     "text": [
      "              precision    recall  f1-score   support\n",
      "\n",
      "           0       0.99      1.00      1.00      1202\n",
      "           1       0.99      1.00      0.99      1451\n",
      "           2       0.99      0.99      0.99      1271\n",
      "           3       0.99      0.99      0.99      1353\n",
      "           4       0.99      1.00      0.99      1190\n",
      "           5       0.99      0.99      0.99      1131\n",
      "           6       0.99      0.99      0.99      1239\n",
      "           7       0.99      0.98      0.99      1331\n",
      "           8       0.99      0.99      0.99      1202\n",
      "           9       0.98      0.99      0.99      1230\n",
      "\n",
      "    accuracy                           0.99     12600\n",
      "   macro avg       0.99      0.99      0.99     12600\n",
      "weighted avg       0.99      0.99      0.99     12600\n",
      "\n"
     ]
    }
   ],
   "source": [
    "pred = model.predict(X_test)\n",
    "print(classification_report(y_test.argmax(axis=1), pred.argmax(axis=1), target_names=[str(x) for x in range(0, 10)]))"
   ]
  },
  {
   "cell_type": "code",
   "execution_count": 13,
   "metadata": {},
   "outputs": [],
   "source": [
    "model.save(modelOutput, save_format='h5')"
   ]
  },
  {
   "cell_type": "code",
   "execution_count": 14,
   "metadata": {},
   "outputs": [
    {
     "data": {
      "image/png": "[encoded data removed]",
      "text/plain": [
       "<Figure size 1440x720 with 1 Axes>"
      ]
     },
     "metadata": {},
     "output_type": "display_data"
    }
   ],
   "source": [
    "plt.style.use(\"ggplot\")\n",
    "plt.figure(figsize=(20, 10))\n",
    "N = EPOCHS\n",
    "plt.plot(np.arange(0, N), net.history[\"loss\"], label=r\"Training loss\")\n",
    "plt.plot(np.arange(0, N), net.history[\"val_loss\"], label=r\"Validation loss\")\n",
    "plt.plot(np.arange(0, N), net.history[\"accuracy\"], label=r\"Training accuracy\")\n",
    "plt.plot(np.arange(0, N), net.history[\"val_accuracy\"], label=r\"Validation accuracy\")\n",
    "plt.title(r\"Training Loss and Accuracy\")\n",
    "plt.xlabel(r\"Epoch #\")\n",
    "plt.ylabel(r\"Loss/Accuracy\")\n",
    "plt.legend(loc=\"center right\")\n",
    "plt.savefig('data/model_plot_1.png')"
   ]
  },
  {
   "cell_type": "code",
   "execution_count": 15,
   "metadata": {},
   "outputs": [
    {
     "data": {
      "text/plain": [
       "0        2\n",
       "1        0\n",
       "2        9\n",
       "3        0\n",
       "4        3\n",
       "        ..\n",
       "27995    9\n",
       "27996    7\n",
       "27997    3\n",
       "27998    9\n",
       "27999    2\n",
       "Name: label, Length: 28000, dtype: int64"
      ]
     },
     "execution_count": 15,
     "metadata": {},
     "output_type": "execute_result"
    }
   ],
   "source": [
    "test = test.values.reshape(-1, 28, 28, 1) / 255\n",
    "y_pred = model.predict(test, batch_size = BS)\n",
    "\n",
    "y_pred = np.argmax(y_pred, axis = 1)\n",
    "y_pred = pd.Series(y_pred, name=\"label\")\n",
    "y_pred"
   ]
  },
  {
   "cell_type": "code",
   "execution_count": 16,
   "metadata": {},
   "outputs": [],
   "source": [
    "submission = pd.concat([pd.Series(range(1,28001),name = \"ImageId\"),y_pred],axis = 1)\n",
    "submission.to_csv(\"submission_nn.csv\", index=False)"
   ]
  }
 ],
 "metadata": {
  "kernelspec": {
   "display_name": "Python 3",
   "language": "python",
   "name": "python3"
  },
  "language_info": {
   "codemirror_mode": {
    "name": "ipython",
    "version": 3
   },
   "file_extension": ".py",
   "mimetype": "text/x-python",
   "name": "python",
   "nbconvert_exporter": "python",
   "pygments_lexer": "ipython3",
   "version": "3.8.5"
  }
 },
 "nbformat": 4,
 "nbformat_minor": 1
}
